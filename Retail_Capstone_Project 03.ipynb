{
 "cells": [
  {
   "cell_type": "markdown",
   "id": "8f434702",
   "metadata": {},
   "source": [
    "# Retail\n",
    "## Capstone_Project_03"
   ]
  },
  {
   "cell_type": "code",
   "execution_count": 1,
   "id": "1f3b0b78",
   "metadata": {},
   "outputs": [],
   "source": [
    "# First importing the necessary library.\n",
    "import numpy as np \n",
    "import pandas as pd\n",
    "import matplotlib.pyplot as plt\n",
    "import seaborn as sns \n",
    "from pandas import ExcelWriter\n",
    "%matplotlib inline"
   ]
  },
  {
   "cell_type": "code",
   "execution_count": 2,
   "id": "04639459",
   "metadata": {},
   "outputs": [],
   "source": [
    "# Now ignoring the unusual warnings.\n",
    "import warnings\n",
    "warnings.filterwarnings(\"ignore\")"
   ]
  },
  {
   "cell_type": "code",
   "execution_count": 3,
   "id": "6139daf4",
   "metadata": {},
   "outputs": [],
   "source": [
    "# Now Importing the dataset to perform further action.\n",
    "retail_df = pd.read_excel(\"Online Retail.xlsx\")"
   ]
  },
  {
   "cell_type": "code",
   "execution_count": 4,
   "id": "10628b16",
   "metadata": {},
   "outputs": [
    {
     "data": {
      "text/html": [
       "<div>\n",
       "<style scoped>\n",
       "    .dataframe tbody tr th:only-of-type {\n",
       "        vertical-align: middle;\n",
       "    }\n",
       "\n",
       "    .dataframe tbody tr th {\n",
       "        vertical-align: top;\n",
       "    }\n",
       "\n",
       "    .dataframe thead th {\n",
       "        text-align: right;\n",
       "    }\n",
       "</style>\n",
       "<table border=\"1\" class=\"dataframe\">\n",
       "  <thead>\n",
       "    <tr style=\"text-align: right;\">\n",
       "      <th></th>\n",
       "      <th>InvoiceNo</th>\n",
       "      <th>StockCode</th>\n",
       "      <th>Description</th>\n",
       "      <th>Quantity</th>\n",
       "      <th>InvoiceDate</th>\n",
       "      <th>UnitPrice</th>\n",
       "      <th>CustomerID</th>\n",
       "      <th>Country</th>\n",
       "    </tr>\n",
       "  </thead>\n",
       "  <tbody>\n",
       "    <tr>\n",
       "      <th>0</th>\n",
       "      <td>536365</td>\n",
       "      <td>85123A</td>\n",
       "      <td>WHITE HANGING HEART T-LIGHT HOLDER</td>\n",
       "      <td>6</td>\n",
       "      <td>2010-12-01 08:26:00</td>\n",
       "      <td>2.55</td>\n",
       "      <td>17850.0</td>\n",
       "      <td>United Kingdom</td>\n",
       "    </tr>\n",
       "    <tr>\n",
       "      <th>1</th>\n",
       "      <td>536365</td>\n",
       "      <td>71053</td>\n",
       "      <td>WHITE METAL LANTERN</td>\n",
       "      <td>6</td>\n",
       "      <td>2010-12-01 08:26:00</td>\n",
       "      <td>3.39</td>\n",
       "      <td>17850.0</td>\n",
       "      <td>United Kingdom</td>\n",
       "    </tr>\n",
       "    <tr>\n",
       "      <th>2</th>\n",
       "      <td>536365</td>\n",
       "      <td>84406B</td>\n",
       "      <td>CREAM CUPID HEARTS COAT HANGER</td>\n",
       "      <td>8</td>\n",
       "      <td>2010-12-01 08:26:00</td>\n",
       "      <td>2.75</td>\n",
       "      <td>17850.0</td>\n",
       "      <td>United Kingdom</td>\n",
       "    </tr>\n",
       "    <tr>\n",
       "      <th>3</th>\n",
       "      <td>536365</td>\n",
       "      <td>84029G</td>\n",
       "      <td>KNITTED UNION FLAG HOT WATER BOTTLE</td>\n",
       "      <td>6</td>\n",
       "      <td>2010-12-01 08:26:00</td>\n",
       "      <td>3.39</td>\n",
       "      <td>17850.0</td>\n",
       "      <td>United Kingdom</td>\n",
       "    </tr>\n",
       "    <tr>\n",
       "      <th>4</th>\n",
       "      <td>536365</td>\n",
       "      <td>84029E</td>\n",
       "      <td>RED WOOLLY HOTTIE WHITE HEART.</td>\n",
       "      <td>6</td>\n",
       "      <td>2010-12-01 08:26:00</td>\n",
       "      <td>3.39</td>\n",
       "      <td>17850.0</td>\n",
       "      <td>United Kingdom</td>\n",
       "    </tr>\n",
       "  </tbody>\n",
       "</table>\n",
       "</div>"
      ],
      "text/plain": [
       "  InvoiceNo StockCode                          Description  Quantity  \\\n",
       "0    536365    85123A   WHITE HANGING HEART T-LIGHT HOLDER         6   \n",
       "1    536365     71053                  WHITE METAL LANTERN         6   \n",
       "2    536365    84406B       CREAM CUPID HEARTS COAT HANGER         8   \n",
       "3    536365    84029G  KNITTED UNION FLAG HOT WATER BOTTLE         6   \n",
       "4    536365    84029E       RED WOOLLY HOTTIE WHITE HEART.         6   \n",
       "\n",
       "          InvoiceDate  UnitPrice  CustomerID         Country  \n",
       "0 2010-12-01 08:26:00       2.55     17850.0  United Kingdom  \n",
       "1 2010-12-01 08:26:00       3.39     17850.0  United Kingdom  \n",
       "2 2010-12-01 08:26:00       2.75     17850.0  United Kingdom  \n",
       "3 2010-12-01 08:26:00       3.39     17850.0  United Kingdom  \n",
       "4 2010-12-01 08:26:00       3.39     17850.0  United Kingdom  "
      ]
     },
     "execution_count": 4,
     "metadata": {},
     "output_type": "execute_result"
    }
   ],
   "source": [
    "retail_df.head()"
   ]
  },
  {
   "cell_type": "code",
   "execution_count": 5,
   "id": "dac18789",
   "metadata": {},
   "outputs": [
    {
     "data": {
      "text/plain": [
       "(541909, 8)"
      ]
     },
     "execution_count": 5,
     "metadata": {},
     "output_type": "execute_result"
    }
   ],
   "source": [
    "retail_df.shape"
   ]
  },
  {
   "cell_type": "code",
   "execution_count": 6,
   "id": "fca72ad2",
   "metadata": {},
   "outputs": [
    {
     "name": "stdout",
     "output_type": "stream",
     "text": [
      "<class 'pandas.core.frame.DataFrame'>\n",
      "RangeIndex: 541909 entries, 0 to 541908\n",
      "Data columns (total 8 columns):\n",
      " #   Column       Non-Null Count   Dtype         \n",
      "---  ------       --------------   -----         \n",
      " 0   InvoiceNo    541909 non-null  object        \n",
      " 1   StockCode    541909 non-null  object        \n",
      " 2   Description  540455 non-null  object        \n",
      " 3   Quantity     541909 non-null  int64         \n",
      " 4   InvoiceDate  541909 non-null  datetime64[ns]\n",
      " 5   UnitPrice    541909 non-null  float64       \n",
      " 6   CustomerID   406829 non-null  float64       \n",
      " 7   Country      541909 non-null  object        \n",
      "dtypes: datetime64[ns](1), float64(2), int64(1), object(4)\n",
      "memory usage: 33.1+ MB\n"
     ]
    }
   ],
   "source": [
    "retail_df.info()"
   ]
  },
  {
   "cell_type": "markdown",
   "id": "02120aff",
   "metadata": {},
   "source": [
    "## Project Task: Week 1\n",
    "## Data Cleaning:"
   ]
  },
  {
   "cell_type": "markdown",
   "id": "4441a6cb",
   "metadata": {},
   "source": [
    "### 1. Perform a preliminary data inspection and data cleaning.\n",
    "\n",
    "### a. Check for missing data and formulate an apt strategy to treat them."
   ]
  },
  {
   "cell_type": "code",
   "execution_count": 7,
   "id": "7a63b44e",
   "metadata": {},
   "outputs": [
    {
     "data": {
      "text/plain": [
       "InvoiceNo           0\n",
       "StockCode           0\n",
       "Description      1454\n",
       "Quantity            0\n",
       "InvoiceDate         0\n",
       "UnitPrice           0\n",
       "CustomerID     135080\n",
       "Country             0\n",
       "dtype: int64"
      ]
     },
     "execution_count": 7,
     "metadata": {},
     "output_type": "execute_result"
    }
   ],
   "source": [
    "# Now checking the missing value in the data set.\n",
    "retail_df.isnull().sum()"
   ]
  },
  {
   "cell_type": "code",
   "execution_count": 8,
   "id": "ce41b6f0",
   "metadata": {},
   "outputs": [
    {
     "data": {
      "text/plain": [
       "InvoiceNo       0.00\n",
       "StockCode       0.00\n",
       "Description     0.27\n",
       "Quantity        0.00\n",
       "InvoiceDate     0.00\n",
       "UnitPrice       0.00\n",
       "CustomerID     24.93\n",
       "Country         0.00\n",
       "dtype: float64"
      ]
     },
     "execution_count": 8,
     "metadata": {},
     "output_type": "execute_result"
    }
   ],
   "source": [
    "# Checking the missing value in the percentage.\n",
    "round((retail_df.isnull().sum()/len(retail_df))*100,2)"
   ]
  },
  {
   "cell_type": "markdown",
   "id": "275d1caf",
   "metadata": {},
   "source": [
    "We have two columns which contain the null values but both column has the unique identity so we can not replace them with the mean, median or mode.\n",
    "\n",
    "So for deal with null value of customerID column. we will check with respect to customerID is any invoice no is present so with respect to that we can fill customer name. "
   ]
  },
  {
   "cell_type": "code",
   "execution_count": 9,
   "id": "5fe97550",
   "metadata": {},
   "outputs": [],
   "source": [
    "custid_null_treat = retail_df[retail_df['CustomerID'].isnull()]['InvoiceNo']"
   ]
  },
  {
   "cell_type": "code",
   "execution_count": 10,
   "id": "25c7a160",
   "metadata": {},
   "outputs": [
    {
     "data": {
      "text/plain": [
       "False"
      ]
     },
     "execution_count": 10,
     "metadata": {},
     "output_type": "execute_result"
    }
   ],
   "source": [
    "(retail_df[\"CustomerID\"].isin(retail_df) & retail_df['InvoiceNo'].isin(custid_null_treat)).any()"
   ]
  },
  {
   "cell_type": "markdown",
   "id": "f7836608",
   "metadata": {},
   "source": [
    "We have checked that with repect to invoice no there is no customer id in the data set so we have to treat the null value by dropping the row."
   ]
  },
  {
   "cell_type": "code",
   "execution_count": 11,
   "id": "628549e3",
   "metadata": {},
   "outputs": [],
   "source": [
    "retail_df.drop('Description', axis=1, inplace=True)\n",
    "retail_df.dropna(inplace=True)"
   ]
  },
  {
   "cell_type": "code",
   "execution_count": 12,
   "id": "a05e6e86",
   "metadata": {},
   "outputs": [
    {
     "data": {
      "text/plain": [
       "(406829, 7)"
      ]
     },
     "execution_count": 12,
     "metadata": {},
     "output_type": "execute_result"
    }
   ],
   "source": [
    "retail_df.shape"
   ]
  },
  {
   "cell_type": "markdown",
   "id": "19d9f60a",
   "metadata": {},
   "source": [
    "### b. Remove duplicate data records."
   ]
  },
  {
   "cell_type": "code",
   "execution_count": 13,
   "id": "8e0a550b",
   "metadata": {},
   "outputs": [
    {
     "data": {
      "text/html": [
       "<div>\n",
       "<style scoped>\n",
       "    .dataframe tbody tr th:only-of-type {\n",
       "        vertical-align: middle;\n",
       "    }\n",
       "\n",
       "    .dataframe tbody tr th {\n",
       "        vertical-align: top;\n",
       "    }\n",
       "\n",
       "    .dataframe thead th {\n",
       "        text-align: right;\n",
       "    }\n",
       "</style>\n",
       "<table border=\"1\" class=\"dataframe\">\n",
       "  <thead>\n",
       "    <tr style=\"text-align: right;\">\n",
       "      <th></th>\n",
       "      <th>InvoiceNo</th>\n",
       "      <th>StockCode</th>\n",
       "      <th>Quantity</th>\n",
       "      <th>InvoiceDate</th>\n",
       "      <th>UnitPrice</th>\n",
       "      <th>CustomerID</th>\n",
       "      <th>Country</th>\n",
       "    </tr>\n",
       "  </thead>\n",
       "  <tbody>\n",
       "    <tr>\n",
       "      <th>517</th>\n",
       "      <td>536409</td>\n",
       "      <td>21866</td>\n",
       "      <td>1</td>\n",
       "      <td>2010-12-01 11:45:00</td>\n",
       "      <td>1.25</td>\n",
       "      <td>17908.0</td>\n",
       "      <td>United Kingdom</td>\n",
       "    </tr>\n",
       "    <tr>\n",
       "      <th>527</th>\n",
       "      <td>536409</td>\n",
       "      <td>22866</td>\n",
       "      <td>1</td>\n",
       "      <td>2010-12-01 11:45:00</td>\n",
       "      <td>2.10</td>\n",
       "      <td>17908.0</td>\n",
       "      <td>United Kingdom</td>\n",
       "    </tr>\n",
       "    <tr>\n",
       "      <th>537</th>\n",
       "      <td>536409</td>\n",
       "      <td>22900</td>\n",
       "      <td>1</td>\n",
       "      <td>2010-12-01 11:45:00</td>\n",
       "      <td>2.95</td>\n",
       "      <td>17908.0</td>\n",
       "      <td>United Kingdom</td>\n",
       "    </tr>\n",
       "    <tr>\n",
       "      <th>539</th>\n",
       "      <td>536409</td>\n",
       "      <td>22111</td>\n",
       "      <td>1</td>\n",
       "      <td>2010-12-01 11:45:00</td>\n",
       "      <td>4.95</td>\n",
       "      <td>17908.0</td>\n",
       "      <td>United Kingdom</td>\n",
       "    </tr>\n",
       "    <tr>\n",
       "      <th>555</th>\n",
       "      <td>536412</td>\n",
       "      <td>22327</td>\n",
       "      <td>1</td>\n",
       "      <td>2010-12-01 11:49:00</td>\n",
       "      <td>2.95</td>\n",
       "      <td>17920.0</td>\n",
       "      <td>United Kingdom</td>\n",
       "    </tr>\n",
       "    <tr>\n",
       "      <th>...</th>\n",
       "      <td>...</td>\n",
       "      <td>...</td>\n",
       "      <td>...</td>\n",
       "      <td>...</td>\n",
       "      <td>...</td>\n",
       "      <td>...</td>\n",
       "      <td>...</td>\n",
       "    </tr>\n",
       "    <tr>\n",
       "      <th>541675</th>\n",
       "      <td>581538</td>\n",
       "      <td>22068</td>\n",
       "      <td>1</td>\n",
       "      <td>2011-12-09 11:34:00</td>\n",
       "      <td>0.39</td>\n",
       "      <td>14446.0</td>\n",
       "      <td>United Kingdom</td>\n",
       "    </tr>\n",
       "    <tr>\n",
       "      <th>541689</th>\n",
       "      <td>581538</td>\n",
       "      <td>23318</td>\n",
       "      <td>1</td>\n",
       "      <td>2011-12-09 11:34:00</td>\n",
       "      <td>2.49</td>\n",
       "      <td>14446.0</td>\n",
       "      <td>United Kingdom</td>\n",
       "    </tr>\n",
       "    <tr>\n",
       "      <th>541692</th>\n",
       "      <td>581538</td>\n",
       "      <td>22992</td>\n",
       "      <td>1</td>\n",
       "      <td>2011-12-09 11:34:00</td>\n",
       "      <td>1.95</td>\n",
       "      <td>14446.0</td>\n",
       "      <td>United Kingdom</td>\n",
       "    </tr>\n",
       "    <tr>\n",
       "      <th>541699</th>\n",
       "      <td>581538</td>\n",
       "      <td>22694</td>\n",
       "      <td>1</td>\n",
       "      <td>2011-12-09 11:34:00</td>\n",
       "      <td>2.10</td>\n",
       "      <td>14446.0</td>\n",
       "      <td>United Kingdom</td>\n",
       "    </tr>\n",
       "    <tr>\n",
       "      <th>541701</th>\n",
       "      <td>581538</td>\n",
       "      <td>23343</td>\n",
       "      <td>1</td>\n",
       "      <td>2011-12-09 11:34:00</td>\n",
       "      <td>2.08</td>\n",
       "      <td>14446.0</td>\n",
       "      <td>United Kingdom</td>\n",
       "    </tr>\n",
       "  </tbody>\n",
       "</table>\n",
       "<p>5227 rows × 7 columns</p>\n",
       "</div>"
      ],
      "text/plain": [
       "       InvoiceNo StockCode  Quantity         InvoiceDate  UnitPrice  \\\n",
       "517       536409     21866         1 2010-12-01 11:45:00       1.25   \n",
       "527       536409     22866         1 2010-12-01 11:45:00       2.10   \n",
       "537       536409     22900         1 2010-12-01 11:45:00       2.95   \n",
       "539       536409     22111         1 2010-12-01 11:45:00       4.95   \n",
       "555       536412     22327         1 2010-12-01 11:49:00       2.95   \n",
       "...          ...       ...       ...                 ...        ...   \n",
       "541675    581538     22068         1 2011-12-09 11:34:00       0.39   \n",
       "541689    581538     23318         1 2011-12-09 11:34:00       2.49   \n",
       "541692    581538     22992         1 2011-12-09 11:34:00       1.95   \n",
       "541699    581538     22694         1 2011-12-09 11:34:00       2.10   \n",
       "541701    581538     23343         1 2011-12-09 11:34:00       2.08   \n",
       "\n",
       "        CustomerID         Country  \n",
       "517        17908.0  United Kingdom  \n",
       "527        17908.0  United Kingdom  \n",
       "537        17908.0  United Kingdom  \n",
       "539        17908.0  United Kingdom  \n",
       "555        17920.0  United Kingdom  \n",
       "...            ...             ...  \n",
       "541675     14446.0  United Kingdom  \n",
       "541689     14446.0  United Kingdom  \n",
       "541692     14446.0  United Kingdom  \n",
       "541699     14446.0  United Kingdom  \n",
       "541701     14446.0  United Kingdom  \n",
       "\n",
       "[5227 rows x 7 columns]"
      ]
     },
     "execution_count": 13,
     "metadata": {},
     "output_type": "execute_result"
    }
   ],
   "source": [
    "retail_df[retail_df.duplicated()]"
   ]
  },
  {
   "cell_type": "markdown",
   "id": "e9bf19d6",
   "metadata": {},
   "source": [
    "It is clear from the above observation that there is duplicate values in the data set so we will drop all duplicate values."
   ]
  },
  {
   "cell_type": "code",
   "execution_count": 14,
   "id": "5d2c74a9",
   "metadata": {},
   "outputs": [
    {
     "data": {
      "text/plain": [
       "(401602, 7)"
      ]
     },
     "execution_count": 14,
     "metadata": {},
     "output_type": "execute_result"
    }
   ],
   "source": [
    "retail_df = retail_df.drop_duplicates()\n",
    "retail_df.shape"
   ]
  },
  {
   "cell_type": "markdown",
   "id": "231b74c9",
   "metadata": {},
   "source": [
    "### c. Perform descriptive analytics on the given data."
   ]
  },
  {
   "cell_type": "code",
   "execution_count": 15,
   "id": "9085b488",
   "metadata": {},
   "outputs": [
    {
     "data": {
      "text/html": [
       "<div>\n",
       "<style scoped>\n",
       "    .dataframe tbody tr th:only-of-type {\n",
       "        vertical-align: middle;\n",
       "    }\n",
       "\n",
       "    .dataframe tbody tr th {\n",
       "        vertical-align: top;\n",
       "    }\n",
       "\n",
       "    .dataframe thead th {\n",
       "        text-align: right;\n",
       "    }\n",
       "</style>\n",
       "<table border=\"1\" class=\"dataframe\">\n",
       "  <thead>\n",
       "    <tr style=\"text-align: right;\">\n",
       "      <th></th>\n",
       "      <th>Quantity</th>\n",
       "      <th>InvoiceDate</th>\n",
       "      <th>UnitPrice</th>\n",
       "      <th>CustomerID</th>\n",
       "    </tr>\n",
       "  </thead>\n",
       "  <tbody>\n",
       "    <tr>\n",
       "      <th>count</th>\n",
       "      <td>401602.000000</td>\n",
       "      <td>401602</td>\n",
       "      <td>401602.000000</td>\n",
       "      <td>401602.000000</td>\n",
       "    </tr>\n",
       "    <tr>\n",
       "      <th>mean</th>\n",
       "      <td>12.182579</td>\n",
       "      <td>2011-07-10 12:08:08.129839872</td>\n",
       "      <td>3.474064</td>\n",
       "      <td>15281.172576</td>\n",
       "    </tr>\n",
       "    <tr>\n",
       "      <th>min</th>\n",
       "      <td>-80995.000000</td>\n",
       "      <td>2010-12-01 08:26:00</td>\n",
       "      <td>0.000000</td>\n",
       "      <td>12346.000000</td>\n",
       "    </tr>\n",
       "    <tr>\n",
       "      <th>25%</th>\n",
       "      <td>2.000000</td>\n",
       "      <td>2011-04-06 15:02:00</td>\n",
       "      <td>1.250000</td>\n",
       "      <td>13939.000000</td>\n",
       "    </tr>\n",
       "    <tr>\n",
       "      <th>50%</th>\n",
       "      <td>5.000000</td>\n",
       "      <td>2011-07-29 15:40:00</td>\n",
       "      <td>1.950000</td>\n",
       "      <td>15145.000000</td>\n",
       "    </tr>\n",
       "    <tr>\n",
       "      <th>75%</th>\n",
       "      <td>12.000000</td>\n",
       "      <td>2011-10-20 11:58:00</td>\n",
       "      <td>3.750000</td>\n",
       "      <td>16784.000000</td>\n",
       "    </tr>\n",
       "    <tr>\n",
       "      <th>max</th>\n",
       "      <td>80995.000000</td>\n",
       "      <td>2011-12-09 12:50:00</td>\n",
       "      <td>38970.000000</td>\n",
       "      <td>18287.000000</td>\n",
       "    </tr>\n",
       "    <tr>\n",
       "      <th>std</th>\n",
       "      <td>250.283248</td>\n",
       "      <td>NaN</td>\n",
       "      <td>69.764209</td>\n",
       "      <td>1714.002257</td>\n",
       "    </tr>\n",
       "  </tbody>\n",
       "</table>\n",
       "</div>"
      ],
      "text/plain": [
       "            Quantity                    InvoiceDate      UnitPrice  \\\n",
       "count  401602.000000                         401602  401602.000000   \n",
       "mean       12.182579  2011-07-10 12:08:08.129839872       3.474064   \n",
       "min    -80995.000000            2010-12-01 08:26:00       0.000000   \n",
       "25%         2.000000            2011-04-06 15:02:00       1.250000   \n",
       "50%         5.000000            2011-07-29 15:40:00       1.950000   \n",
       "75%        12.000000            2011-10-20 11:58:00       3.750000   \n",
       "max     80995.000000            2011-12-09 12:50:00   38970.000000   \n",
       "std       250.283248                            NaN      69.764209   \n",
       "\n",
       "          CustomerID  \n",
       "count  401602.000000  \n",
       "mean    15281.172576  \n",
       "min     12346.000000  \n",
       "25%     13939.000000  \n",
       "50%     15145.000000  \n",
       "75%     16784.000000  \n",
       "max     18287.000000  \n",
       "std      1714.002257  "
      ]
     },
     "execution_count": 15,
     "metadata": {},
     "output_type": "execute_result"
    }
   ],
   "source": [
    "retail_df.describe(datetime_is_numeric=True)"
   ]
  },
  {
   "cell_type": "code",
   "execution_count": 16,
   "id": "35d320d1",
   "metadata": {},
   "outputs": [
    {
     "data": {
      "text/html": [
       "<div>\n",
       "<style scoped>\n",
       "    .dataframe tbody tr th:only-of-type {\n",
       "        vertical-align: middle;\n",
       "    }\n",
       "\n",
       "    .dataframe tbody tr th {\n",
       "        vertical-align: top;\n",
       "    }\n",
       "\n",
       "    .dataframe thead th {\n",
       "        text-align: right;\n",
       "    }\n",
       "</style>\n",
       "<table border=\"1\" class=\"dataframe\">\n",
       "  <thead>\n",
       "    <tr style=\"text-align: right;\">\n",
       "      <th></th>\n",
       "      <th>InvoiceNo</th>\n",
       "      <th>StockCode</th>\n",
       "      <th>Country</th>\n",
       "    </tr>\n",
       "  </thead>\n",
       "  <tbody>\n",
       "    <tr>\n",
       "      <th>count</th>\n",
       "      <td>401602</td>\n",
       "      <td>401602</td>\n",
       "      <td>401602</td>\n",
       "    </tr>\n",
       "    <tr>\n",
       "      <th>unique</th>\n",
       "      <td>22190</td>\n",
       "      <td>3684</td>\n",
       "      <td>37</td>\n",
       "    </tr>\n",
       "    <tr>\n",
       "      <th>top</th>\n",
       "      <td>576339</td>\n",
       "      <td>85123A</td>\n",
       "      <td>United Kingdom</td>\n",
       "    </tr>\n",
       "    <tr>\n",
       "      <th>freq</th>\n",
       "      <td>542</td>\n",
       "      <td>2065</td>\n",
       "      <td>356726</td>\n",
       "    </tr>\n",
       "  </tbody>\n",
       "</table>\n",
       "</div>"
      ],
      "text/plain": [
       "        InvoiceNo StockCode         Country\n",
       "count      401602    401602          401602\n",
       "unique      22190      3684              37\n",
       "top        576339    85123A  United Kingdom\n",
       "freq          542      2065          356726"
      ]
     },
     "execution_count": 16,
     "metadata": {},
     "output_type": "execute_result"
    }
   ],
   "source": [
    "# we will also analysis the object type field in term of count, freq etc..\n",
    "retail_df.describe(include = ['O'])"
   ]
  },
  {
   "cell_type": "markdown",
   "id": "bf8a28e8",
   "metadata": {},
   "source": [
    "## Data Transformation:\n",
    "\n",
    "### 2. Perform cohort analysis (a cohort is a group of subjects that share a defining characteristic). Observe how a cohort behaves across time and compare it to other cohorts."
   ]
  },
  {
   "cell_type": "markdown",
   "id": "ab6a0748",
   "metadata": {},
   "source": [
    "### a. Create month cohorts and analyze active customers for each cohort."
   ]
  },
  {
   "cell_type": "code",
   "execution_count": 17,
   "id": "5750ec5d",
   "metadata": {},
   "outputs": [],
   "source": [
    "df = retail_df.groupby(pd.Grouper(key=\"InvoiceDate\", axis=0, freq=\"M\")).nunique()"
   ]
  },
  {
   "cell_type": "code",
   "execution_count": 18,
   "id": "5f0d6071",
   "metadata": {},
   "outputs": [],
   "source": [
    "monthwise_cohort = df['CustomerID']"
   ]
  },
  {
   "cell_type": "code",
   "execution_count": 19,
   "id": "836af87b",
   "metadata": {},
   "outputs": [
    {
     "data": {
      "text/plain": [
       "InvoiceDate\n",
       "2010-12-31     948\n",
       "2011-01-31     783\n",
       "2011-02-28     798\n",
       "2011-03-31    1020\n",
       "2011-04-30     899\n",
       "2011-05-31    1079\n",
       "2011-06-30    1051\n",
       "2011-07-31     993\n",
       "2011-08-31     980\n",
       "2011-09-30    1302\n",
       "2011-10-31    1425\n",
       "2011-11-30    1711\n",
       "2011-12-31     686\n",
       "Freq: M, Name: CustomerID, dtype: int64"
      ]
     },
     "execution_count": 19,
     "metadata": {},
     "output_type": "execute_result"
    }
   ],
   "source": [
    "monthwise_cohort"
   ]
  },
  {
   "cell_type": "code",
   "execution_count": 20,
   "id": "aeec05cd",
   "metadata": {},
   "outputs": [
    {
     "data": {
      "image/png": "[encoded data removed]",
      "text/plain": [
       "<Figure size 1080x504 with 1 Axes>"
      ]
     },
     "metadata": {
      "needs_background": "light"
     },
     "output_type": "display_data"
    }
   ],
   "source": [
    "plt.figure(figsize=(15,7))\n",
    "sns.barplot(x = monthwise_cohort.index, y = monthwise_cohort.values)\n",
    "plt.xticks(rotation = 15)\n",
    "plt.title(\"active customers for each monthly cohort\")\n",
    "plt.ylabel(\"Count of customers\")\n",
    "plt.show()"
   ]
  },
  {
   "cell_type": "markdown",
   "id": "435c852e",
   "metadata": {},
   "source": [
    "### b. Analyze the retention rate of customers."
   ]
  },
  {
   "cell_type": "code",
   "execution_count": 21,
   "id": "e8eaedc0",
   "metadata": {},
   "outputs": [
    {
     "data": {
      "text/plain": [
       "InvoiceDate\n",
       "2010-12-31       NaN\n",
       "2011-01-31    -165.0\n",
       "2011-02-28      15.0\n",
       "2011-03-31     222.0\n",
       "2011-04-30    -121.0\n",
       "2011-05-31     180.0\n",
       "2011-06-30     -28.0\n",
       "2011-07-31     -58.0\n",
       "2011-08-31     -13.0\n",
       "2011-09-30     322.0\n",
       "2011-10-31     123.0\n",
       "2011-11-30     286.0\n",
       "2011-12-31   -1025.0\n",
       "Freq: M, Name: CustomerID, dtype: float64"
      ]
     },
     "execution_count": 21,
     "metadata": {},
     "output_type": "execute_result"
    }
   ],
   "source": [
    "# Now we analyze the retention rate of the customer.\n",
    "monthwise_cohort - monthwise_cohort.shift(1)"
   ]
  },
  {
   "cell_type": "code",
   "execution_count": 22,
   "id": "6316f75a",
   "metadata": {},
   "outputs": [
    {
     "data": {
      "text/plain": [
       "InvoiceDate\n",
       "2010-12-31      NaN\n",
       "2011-01-31   -17.41\n",
       "2011-02-28     1.92\n",
       "2011-03-31    27.82\n",
       "2011-04-30   -11.86\n",
       "2011-05-31    20.02\n",
       "2011-06-30    -2.59\n",
       "2011-07-31    -5.52\n",
       "2011-08-31    -1.31\n",
       "2011-09-30    32.86\n",
       "2011-10-31     9.45\n",
       "2011-11-30    20.07\n",
       "2011-12-31   -59.91\n",
       "Freq: M, Name: CustomerID, dtype: float64"
      ]
     },
     "execution_count": 22,
     "metadata": {},
     "output_type": "execute_result"
    }
   ],
   "source": [
    "retention_rate = round((monthwise_cohort.pct_change())*100,2)\n",
    "retention_rate"
   ]
  },
  {
   "cell_type": "code",
   "execution_count": 23,
   "id": "3a5a5fd7",
   "metadata": {},
   "outputs": [
    {
     "data": {
      "image/png": "[encoded data removed]",
      "text/plain": [
       "<Figure size 720x432 with 1 Axes>"
      ]
     },
     "metadata": {
      "needs_background": "light"
     },
     "output_type": "display_data"
    }
   ],
   "source": [
    "# lets visualize the retention rate.\n",
    "plt.figure(figsize=(10,6))\n",
    "sns.barplot(x = retention_rate.values, y = retention_rate.index)\n",
    "plt.xticks(rotation = 15)\n",
    "plt.title(\"retention rate of customers\")\n",
    "plt.xlabel(\"retention rate in percent\")\n",
    "plt.show()"
   ]
  },
  {
   "cell_type": "markdown",
   "id": "7413e1d1",
   "metadata": {},
   "source": [
    "## Project Task: Week 2\n",
    "## Data Modeling :\n",
    "\n",
    "### 1. Build a RFM (Recency Frequency Monetary) model. Recency means the number of days since a customer made the last purchase. Frequency is the number of purchase in a given period. It could be 3 months, 6 months or 1 year. Monetary is the total amount of money a customer spent in that given period. Therefore, big spenders will be differentiated among other customers such as MVP (Minimum Viable Product) or VIP."
   ]
  },
  {
   "cell_type": "code",
   "execution_count": 24,
   "id": "4b92255c",
   "metadata": {},
   "outputs": [],
   "source": [
    "# First calculating the total price \n",
    "retail_df[\"TotalPrice\"] = retail_df[\"Quantity\"] * retail_df[\"UnitPrice\"]"
   ]
  },
  {
   "cell_type": "code",
   "execution_count": 25,
   "id": "f0bd7d35",
   "metadata": {},
   "outputs": [
    {
     "name": "stdout",
     "output_type": "stream",
     "text": [
      "refrence Date:  2011-12-10 12:50:00\n"
     ]
    }
   ],
   "source": [
    "# We will make the refrence date +1 because we will get the transaction done on the last date.\n",
    "from datetime import timedelta\n",
    "refrence_date = (retail_df[\"InvoiceDate\"].max()) + timedelta(days=1)\n",
    "print(\"refrence Date: \", refrence_date)"
   ]
  },
  {
   "cell_type": "code",
   "execution_count": 26,
   "id": "efbe20e9",
   "metadata": {},
   "outputs": [],
   "source": [
    "RFM = retail_df.groupby(['CustomerID']).agg({'InvoiceDate': lambda x : (refrence_date-x.max()).days,\n",
    "                                            \"InvoiceNo\": \"count\",\n",
    "                                            \"TotalPrice\": 'sum'})"
   ]
  },
  {
   "cell_type": "markdown",
   "id": "670b5712",
   "metadata": {},
   "source": [
    "### 2. Calculate RFM metrics."
   ]
  },
  {
   "cell_type": "code",
   "execution_count": 27,
   "id": "ae91e183",
   "metadata": {},
   "outputs": [],
   "source": [
    "RFM.rename(columns = {'InvoiceDate':\"Recency\", \"InvoiceNo\": \"Frequency\", \"TotalPrice\": \"MonetaryValue\"}, inplace=True)"
   ]
  },
  {
   "cell_type": "code",
   "execution_count": 28,
   "id": "2ae789ac",
   "metadata": {},
   "outputs": [
    {
     "data": {
      "text/html": [
       "<div>\n",
       "<style scoped>\n",
       "    .dataframe tbody tr th:only-of-type {\n",
       "        vertical-align: middle;\n",
       "    }\n",
       "\n",
       "    .dataframe tbody tr th {\n",
       "        vertical-align: top;\n",
       "    }\n",
       "\n",
       "    .dataframe thead th {\n",
       "        text-align: right;\n",
       "    }\n",
       "</style>\n",
       "<table border=\"1\" class=\"dataframe\">\n",
       "  <thead>\n",
       "    <tr style=\"text-align: right;\">\n",
       "      <th></th>\n",
       "      <th>Recency</th>\n",
       "      <th>Frequency</th>\n",
       "      <th>MonetaryValue</th>\n",
       "    </tr>\n",
       "    <tr>\n",
       "      <th>CustomerID</th>\n",
       "      <th></th>\n",
       "      <th></th>\n",
       "      <th></th>\n",
       "    </tr>\n",
       "  </thead>\n",
       "  <tbody>\n",
       "    <tr>\n",
       "      <th>12346.0</th>\n",
       "      <td>326</td>\n",
       "      <td>2</td>\n",
       "      <td>0.00</td>\n",
       "    </tr>\n",
       "    <tr>\n",
       "      <th>12347.0</th>\n",
       "      <td>2</td>\n",
       "      <td>182</td>\n",
       "      <td>4310.00</td>\n",
       "    </tr>\n",
       "    <tr>\n",
       "      <th>12348.0</th>\n",
       "      <td>75</td>\n",
       "      <td>31</td>\n",
       "      <td>1797.24</td>\n",
       "    </tr>\n",
       "    <tr>\n",
       "      <th>12349.0</th>\n",
       "      <td>19</td>\n",
       "      <td>73</td>\n",
       "      <td>1757.55</td>\n",
       "    </tr>\n",
       "    <tr>\n",
       "      <th>12350.0</th>\n",
       "      <td>310</td>\n",
       "      <td>17</td>\n",
       "      <td>334.40</td>\n",
       "    </tr>\n",
       "    <tr>\n",
       "      <th>...</th>\n",
       "      <td>...</td>\n",
       "      <td>...</td>\n",
       "      <td>...</td>\n",
       "    </tr>\n",
       "    <tr>\n",
       "      <th>18280.0</th>\n",
       "      <td>278</td>\n",
       "      <td>10</td>\n",
       "      <td>180.60</td>\n",
       "    </tr>\n",
       "    <tr>\n",
       "      <th>18281.0</th>\n",
       "      <td>181</td>\n",
       "      <td>7</td>\n",
       "      <td>80.82</td>\n",
       "    </tr>\n",
       "    <tr>\n",
       "      <th>18282.0</th>\n",
       "      <td>8</td>\n",
       "      <td>13</td>\n",
       "      <td>176.60</td>\n",
       "    </tr>\n",
       "    <tr>\n",
       "      <th>18283.0</th>\n",
       "      <td>4</td>\n",
       "      <td>721</td>\n",
       "      <td>2045.53</td>\n",
       "    </tr>\n",
       "    <tr>\n",
       "      <th>18287.0</th>\n",
       "      <td>43</td>\n",
       "      <td>70</td>\n",
       "      <td>1837.28</td>\n",
       "    </tr>\n",
       "  </tbody>\n",
       "</table>\n",
       "<p>4372 rows × 3 columns</p>\n",
       "</div>"
      ],
      "text/plain": [
       "            Recency  Frequency  MonetaryValue\n",
       "CustomerID                                   \n",
       "12346.0         326          2           0.00\n",
       "12347.0           2        182        4310.00\n",
       "12348.0          75         31        1797.24\n",
       "12349.0          19         73        1757.55\n",
       "12350.0         310         17         334.40\n",
       "...             ...        ...            ...\n",
       "18280.0         278         10         180.60\n",
       "18281.0         181          7          80.82\n",
       "18282.0           8         13         176.60\n",
       "18283.0           4        721        2045.53\n",
       "18287.0          43         70        1837.28\n",
       "\n",
       "[4372 rows x 3 columns]"
      ]
     },
     "execution_count": 28,
     "metadata": {},
     "output_type": "execute_result"
    }
   ],
   "source": [
    "RFM"
   ]
  },
  {
   "cell_type": "code",
   "execution_count": 29,
   "id": "e736bf3c",
   "metadata": {},
   "outputs": [
    {
     "data": {
      "image/png": "[encoded data removed]",
      "text/plain": [
       "<Figure size 1440x1080 with 3 Axes>"
      ]
     },
     "metadata": {
      "needs_background": "light"
     },
     "output_type": "display_data"
    }
   ],
   "source": [
    "# Plot the RFM distribution \n",
    "plt.figure(figsize=(20,15))\n",
    "\n",
    "plt.subplot(3,1,1)\n",
    "sns.distplot(RFM['Recency'])\n",
    "plt.xlabel('Recency')\n",
    "plt.ylabel('Probability')\n",
    "\n",
    "plt.subplot(3,1,2)\n",
    "sns.distplot(RFM['Frequency'])\n",
    "plt.xlabel('Frequency')\n",
    "plt.ylabel('Probability')\n",
    "\n",
    "plt.subplot(3,1,3)\n",
    "sns.distplot(RFM['MonetaryValue'])\n",
    "plt.xlabel('MonetaryValue')\n",
    "plt.ylabel('Probability')\n",
    "\n",
    "plt.show()"
   ]
  },
  {
   "cell_type": "markdown",
   "id": "8610903d",
   "metadata": {},
   "source": [
    "### 3. Build RFM Segments. Give recency, frequency, and monetary scores individually by dividing them into quartiles.\n",
    "\n",
    "### b1. Combine three ratings to get a RFM segment (as strings).\n",
    "\n",
    "### b2. Get the RFM score by adding up the three ratings.\n",
    "\n",
    "### b3. Analyze the RFM segments by summarizing them and comment on the findings."
   ]
  },
  {
   "cell_type": "code",
   "execution_count": 30,
   "id": "d9b81eb3",
   "metadata": {},
   "outputs": [],
   "source": [
    "# Creating the rating by using the quartile function\n",
    "rlabel = range(4,0,-1)\n",
    "flabel = range(1,5)\n",
    "mlabel = range(1,5)\n",
    "\n",
    "# Using the quartile function and give rating.\n",
    "r = pd.qcut(RFM[\"Recency\"], q =4, labels = rlabel)\n",
    "f = pd.qcut(RFM[\"Frequency\"],q = 4, labels=flabel)\n",
    "m = pd.qcut(RFM[\"MonetaryValue\"],q = 4, labels=mlabel)\n",
    "\n",
    "RFM[\"R\"] = r.values\n",
    "RFM[\"F\"] = f.values\n",
    "RFM[\"M\"] = m.values"
   ]
  },
  {
   "cell_type": "code",
   "execution_count": 31,
   "id": "6cb3ecfc",
   "metadata": {},
   "outputs": [
    {
     "data": {
      "text/html": [
       "<div>\n",
       "<style scoped>\n",
       "    .dataframe tbody tr th:only-of-type {\n",
       "        vertical-align: middle;\n",
       "    }\n",
       "\n",
       "    .dataframe tbody tr th {\n",
       "        vertical-align: top;\n",
       "    }\n",
       "\n",
       "    .dataframe thead th {\n",
       "        text-align: right;\n",
       "    }\n",
       "</style>\n",
       "<table border=\"1\" class=\"dataframe\">\n",
       "  <thead>\n",
       "    <tr style=\"text-align: right;\">\n",
       "      <th></th>\n",
       "      <th>Recency</th>\n",
       "      <th>Frequency</th>\n",
       "      <th>MonetaryValue</th>\n",
       "      <th>R</th>\n",
       "      <th>F</th>\n",
       "      <th>M</th>\n",
       "    </tr>\n",
       "    <tr>\n",
       "      <th>CustomerID</th>\n",
       "      <th></th>\n",
       "      <th></th>\n",
       "      <th></th>\n",
       "      <th></th>\n",
       "      <th></th>\n",
       "      <th></th>\n",
       "    </tr>\n",
       "  </thead>\n",
       "  <tbody>\n",
       "    <tr>\n",
       "      <th>12346.0</th>\n",
       "      <td>326</td>\n",
       "      <td>2</td>\n",
       "      <td>0.00</td>\n",
       "      <td>1</td>\n",
       "      <td>1</td>\n",
       "      <td>1</td>\n",
       "    </tr>\n",
       "    <tr>\n",
       "      <th>12347.0</th>\n",
       "      <td>2</td>\n",
       "      <td>182</td>\n",
       "      <td>4310.00</td>\n",
       "      <td>4</td>\n",
       "      <td>4</td>\n",
       "      <td>4</td>\n",
       "    </tr>\n",
       "    <tr>\n",
       "      <th>12348.0</th>\n",
       "      <td>75</td>\n",
       "      <td>31</td>\n",
       "      <td>1797.24</td>\n",
       "      <td>2</td>\n",
       "      <td>2</td>\n",
       "      <td>4</td>\n",
       "    </tr>\n",
       "    <tr>\n",
       "      <th>12349.0</th>\n",
       "      <td>19</td>\n",
       "      <td>73</td>\n",
       "      <td>1757.55</td>\n",
       "      <td>3</td>\n",
       "      <td>3</td>\n",
       "      <td>4</td>\n",
       "    </tr>\n",
       "    <tr>\n",
       "      <th>12350.0</th>\n",
       "      <td>310</td>\n",
       "      <td>17</td>\n",
       "      <td>334.40</td>\n",
       "      <td>1</td>\n",
       "      <td>1</td>\n",
       "      <td>2</td>\n",
       "    </tr>\n",
       "  </tbody>\n",
       "</table>\n",
       "</div>"
      ],
      "text/plain": [
       "            Recency  Frequency  MonetaryValue  R  F  M\n",
       "CustomerID                                            \n",
       "12346.0         326          2           0.00  1  1  1\n",
       "12347.0           2        182        4310.00  4  4  4\n",
       "12348.0          75         31        1797.24  2  2  4\n",
       "12349.0          19         73        1757.55  3  3  4\n",
       "12350.0         310         17         334.40  1  1  2"
      ]
     },
     "execution_count": 31,
     "metadata": {},
     "output_type": "execute_result"
    }
   ],
   "source": [
    "RFM.head()"
   ]
  },
  {
   "cell_type": "code",
   "execution_count": 32,
   "id": "a66af8e2",
   "metadata": {},
   "outputs": [],
   "source": [
    "RFM['RFM_concat'] = RFM.apply(lambda x: str(x[\"R\"]) + str(x[\"F\"]) + str(x[\"M\"]), axis=1)"
   ]
  },
  {
   "cell_type": "code",
   "execution_count": 33,
   "id": "6bb58153",
   "metadata": {},
   "outputs": [
    {
     "data": {
      "text/html": [
       "<div>\n",
       "<style scoped>\n",
       "    .dataframe tbody tr th:only-of-type {\n",
       "        vertical-align: middle;\n",
       "    }\n",
       "\n",
       "    .dataframe tbody tr th {\n",
       "        vertical-align: top;\n",
       "    }\n",
       "\n",
       "    .dataframe thead th {\n",
       "        text-align: right;\n",
       "    }\n",
       "</style>\n",
       "<table border=\"1\" class=\"dataframe\">\n",
       "  <thead>\n",
       "    <tr style=\"text-align: right;\">\n",
       "      <th></th>\n",
       "      <th>Recency</th>\n",
       "      <th>Frequency</th>\n",
       "      <th>MonetaryValue</th>\n",
       "      <th>R</th>\n",
       "      <th>F</th>\n",
       "      <th>M</th>\n",
       "      <th>RFM_concat</th>\n",
       "    </tr>\n",
       "    <tr>\n",
       "      <th>CustomerID</th>\n",
       "      <th></th>\n",
       "      <th></th>\n",
       "      <th></th>\n",
       "      <th></th>\n",
       "      <th></th>\n",
       "      <th></th>\n",
       "      <th></th>\n",
       "    </tr>\n",
       "  </thead>\n",
       "  <tbody>\n",
       "    <tr>\n",
       "      <th>12346.0</th>\n",
       "      <td>326</td>\n",
       "      <td>2</td>\n",
       "      <td>0.00</td>\n",
       "      <td>1</td>\n",
       "      <td>1</td>\n",
       "      <td>1</td>\n",
       "      <td>1.01.01.0</td>\n",
       "    </tr>\n",
       "    <tr>\n",
       "      <th>12347.0</th>\n",
       "      <td>2</td>\n",
       "      <td>182</td>\n",
       "      <td>4310.00</td>\n",
       "      <td>4</td>\n",
       "      <td>4</td>\n",
       "      <td>4</td>\n",
       "      <td>4.04.04.0</td>\n",
       "    </tr>\n",
       "    <tr>\n",
       "      <th>12348.0</th>\n",
       "      <td>75</td>\n",
       "      <td>31</td>\n",
       "      <td>1797.24</td>\n",
       "      <td>2</td>\n",
       "      <td>2</td>\n",
       "      <td>4</td>\n",
       "      <td>2.02.04.0</td>\n",
       "    </tr>\n",
       "    <tr>\n",
       "      <th>12349.0</th>\n",
       "      <td>19</td>\n",
       "      <td>73</td>\n",
       "      <td>1757.55</td>\n",
       "      <td>3</td>\n",
       "      <td>3</td>\n",
       "      <td>4</td>\n",
       "      <td>3.03.04.0</td>\n",
       "    </tr>\n",
       "    <tr>\n",
       "      <th>12350.0</th>\n",
       "      <td>310</td>\n",
       "      <td>17</td>\n",
       "      <td>334.40</td>\n",
       "      <td>1</td>\n",
       "      <td>1</td>\n",
       "      <td>2</td>\n",
       "      <td>1.01.02.0</td>\n",
       "    </tr>\n",
       "  </tbody>\n",
       "</table>\n",
       "</div>"
      ],
      "text/plain": [
       "            Recency  Frequency  MonetaryValue  R  F  M RFM_concat\n",
       "CustomerID                                                       \n",
       "12346.0         326          2           0.00  1  1  1  1.01.01.0\n",
       "12347.0           2        182        4310.00  4  4  4  4.04.04.0\n",
       "12348.0          75         31        1797.24  2  2  4  2.02.04.0\n",
       "12349.0          19         73        1757.55  3  3  4  3.03.04.0\n",
       "12350.0         310         17         334.40  1  1  2  1.01.02.0"
      ]
     },
     "execution_count": 33,
     "metadata": {},
     "output_type": "execute_result"
    }
   ],
   "source": [
    "RFM.head()"
   ]
  },
  {
   "cell_type": "code",
   "execution_count": 34,
   "id": "1d69fa77",
   "metadata": {},
   "outputs": [],
   "source": [
    "RFM[\"RFM_score\"] = RFM.apply(lambda x: x['R'] + x['F'] + x['M'], axis=1)"
   ]
  },
  {
   "cell_type": "code",
   "execution_count": 35,
   "id": "52abf389",
   "metadata": {},
   "outputs": [
    {
     "data": {
      "text/html": [
       "<div>\n",
       "<style scoped>\n",
       "    .dataframe tbody tr th:only-of-type {\n",
       "        vertical-align: middle;\n",
       "    }\n",
       "\n",
       "    .dataframe tbody tr th {\n",
       "        vertical-align: top;\n",
       "    }\n",
       "\n",
       "    .dataframe thead th {\n",
       "        text-align: right;\n",
       "    }\n",
       "</style>\n",
       "<table border=\"1\" class=\"dataframe\">\n",
       "  <thead>\n",
       "    <tr style=\"text-align: right;\">\n",
       "      <th></th>\n",
       "      <th>Recency</th>\n",
       "      <th>Frequency</th>\n",
       "      <th>MonetaryValue</th>\n",
       "      <th>R</th>\n",
       "      <th>F</th>\n",
       "      <th>M</th>\n",
       "      <th>RFM_concat</th>\n",
       "      <th>RFM_score</th>\n",
       "    </tr>\n",
       "    <tr>\n",
       "      <th>CustomerID</th>\n",
       "      <th></th>\n",
       "      <th></th>\n",
       "      <th></th>\n",
       "      <th></th>\n",
       "      <th></th>\n",
       "      <th></th>\n",
       "      <th></th>\n",
       "      <th></th>\n",
       "    </tr>\n",
       "  </thead>\n",
       "  <tbody>\n",
       "    <tr>\n",
       "      <th>12346.0</th>\n",
       "      <td>326</td>\n",
       "      <td>2</td>\n",
       "      <td>0.00</td>\n",
       "      <td>1</td>\n",
       "      <td>1</td>\n",
       "      <td>1</td>\n",
       "      <td>1.01.01.0</td>\n",
       "      <td>3</td>\n",
       "    </tr>\n",
       "    <tr>\n",
       "      <th>12347.0</th>\n",
       "      <td>2</td>\n",
       "      <td>182</td>\n",
       "      <td>4310.00</td>\n",
       "      <td>4</td>\n",
       "      <td>4</td>\n",
       "      <td>4</td>\n",
       "      <td>4.04.04.0</td>\n",
       "      <td>12</td>\n",
       "    </tr>\n",
       "    <tr>\n",
       "      <th>12348.0</th>\n",
       "      <td>75</td>\n",
       "      <td>31</td>\n",
       "      <td>1797.24</td>\n",
       "      <td>2</td>\n",
       "      <td>2</td>\n",
       "      <td>4</td>\n",
       "      <td>2.02.04.0</td>\n",
       "      <td>8</td>\n",
       "    </tr>\n",
       "    <tr>\n",
       "      <th>12349.0</th>\n",
       "      <td>19</td>\n",
       "      <td>73</td>\n",
       "      <td>1757.55</td>\n",
       "      <td>3</td>\n",
       "      <td>3</td>\n",
       "      <td>4</td>\n",
       "      <td>3.03.04.0</td>\n",
       "      <td>10</td>\n",
       "    </tr>\n",
       "    <tr>\n",
       "      <th>12350.0</th>\n",
       "      <td>310</td>\n",
       "      <td>17</td>\n",
       "      <td>334.40</td>\n",
       "      <td>1</td>\n",
       "      <td>1</td>\n",
       "      <td>2</td>\n",
       "      <td>1.01.02.0</td>\n",
       "      <td>4</td>\n",
       "    </tr>\n",
       "  </tbody>\n",
       "</table>\n",
       "</div>"
      ],
      "text/plain": [
       "            Recency  Frequency  MonetaryValue  R  F  M RFM_concat  RFM_score\n",
       "CustomerID                                                                  \n",
       "12346.0         326          2           0.00  1  1  1  1.01.01.0          3\n",
       "12347.0           2        182        4310.00  4  4  4  4.04.04.0         12\n",
       "12348.0          75         31        1797.24  2  2  4  2.02.04.0          8\n",
       "12349.0          19         73        1757.55  3  3  4  3.03.04.0         10\n",
       "12350.0         310         17         334.40  1  1  2  1.01.02.0          4"
      ]
     },
     "execution_count": 35,
     "metadata": {},
     "output_type": "execute_result"
    }
   ],
   "source": [
    "RFM.head()"
   ]
  },
  {
   "cell_type": "code",
   "execution_count": 36,
   "id": "9adf470e",
   "metadata": {},
   "outputs": [],
   "source": [
    "# Now on the basis of the score we will make the segment.\n",
    "def segment(df):\n",
    "    if df['RFM_score']>9:\n",
    "        return \"premiere\"\n",
    "    elif df['RFM_score']>7 and df['RFM_score']<10:\n",
    "        return \"Champions\"\n",
    "    elif df['RFM_score']>5 and df['RFM_score']<8:\n",
    "        return \"Loyal\"\n",
    "    elif df['RFM_score']>4 and df['RFM_score']<=5:\n",
    "        return \"Potential\"\n",
    "    elif df['RFM_score']>3 and df['RFM_score']<=4:\n",
    "        return \"Promissing\"\n",
    "    elif df['RFM_score']>2 and df['RFM_score']<=3:\n",
    "        return \"Need Atention\"\n",
    "    else:\n",
    "        return \"Require Activation\""
   ]
  },
  {
   "cell_type": "code",
   "execution_count": 37,
   "id": "d225d758",
   "metadata": {},
   "outputs": [],
   "source": [
    "RFM[\"RFM_segment\"] = RFM.apply(segment, axis=1)"
   ]
  },
  {
   "cell_type": "code",
   "execution_count": 38,
   "id": "b1b127ab",
   "metadata": {},
   "outputs": [
    {
     "data": {
      "text/html": [
       "<div>\n",
       "<style scoped>\n",
       "    .dataframe tbody tr th:only-of-type {\n",
       "        vertical-align: middle;\n",
       "    }\n",
       "\n",
       "    .dataframe tbody tr th {\n",
       "        vertical-align: top;\n",
       "    }\n",
       "\n",
       "    .dataframe thead th {\n",
       "        text-align: right;\n",
       "    }\n",
       "</style>\n",
       "<table border=\"1\" class=\"dataframe\">\n",
       "  <thead>\n",
       "    <tr style=\"text-align: right;\">\n",
       "      <th></th>\n",
       "      <th>Recency</th>\n",
       "      <th>Frequency</th>\n",
       "      <th>MonetaryValue</th>\n",
       "      <th>R</th>\n",
       "      <th>F</th>\n",
       "      <th>M</th>\n",
       "      <th>RFM_concat</th>\n",
       "      <th>RFM_score</th>\n",
       "      <th>RFM_segment</th>\n",
       "    </tr>\n",
       "    <tr>\n",
       "      <th>CustomerID</th>\n",
       "      <th></th>\n",
       "      <th></th>\n",
       "      <th></th>\n",
       "      <th></th>\n",
       "      <th></th>\n",
       "      <th></th>\n",
       "      <th></th>\n",
       "      <th></th>\n",
       "      <th></th>\n",
       "    </tr>\n",
       "  </thead>\n",
       "  <tbody>\n",
       "    <tr>\n",
       "      <th>12346.0</th>\n",
       "      <td>326</td>\n",
       "      <td>2</td>\n",
       "      <td>0.00</td>\n",
       "      <td>1</td>\n",
       "      <td>1</td>\n",
       "      <td>1</td>\n",
       "      <td>1.01.01.0</td>\n",
       "      <td>3</td>\n",
       "      <td>Need Atention</td>\n",
       "    </tr>\n",
       "    <tr>\n",
       "      <th>12347.0</th>\n",
       "      <td>2</td>\n",
       "      <td>182</td>\n",
       "      <td>4310.00</td>\n",
       "      <td>4</td>\n",
       "      <td>4</td>\n",
       "      <td>4</td>\n",
       "      <td>4.04.04.0</td>\n",
       "      <td>12</td>\n",
       "      <td>premiere</td>\n",
       "    </tr>\n",
       "    <tr>\n",
       "      <th>12348.0</th>\n",
       "      <td>75</td>\n",
       "      <td>31</td>\n",
       "      <td>1797.24</td>\n",
       "      <td>2</td>\n",
       "      <td>2</td>\n",
       "      <td>4</td>\n",
       "      <td>2.02.04.0</td>\n",
       "      <td>8</td>\n",
       "      <td>Champions</td>\n",
       "    </tr>\n",
       "    <tr>\n",
       "      <th>12349.0</th>\n",
       "      <td>19</td>\n",
       "      <td>73</td>\n",
       "      <td>1757.55</td>\n",
       "      <td>3</td>\n",
       "      <td>3</td>\n",
       "      <td>4</td>\n",
       "      <td>3.03.04.0</td>\n",
       "      <td>10</td>\n",
       "      <td>premiere</td>\n",
       "    </tr>\n",
       "    <tr>\n",
       "      <th>12350.0</th>\n",
       "      <td>310</td>\n",
       "      <td>17</td>\n",
       "      <td>334.40</td>\n",
       "      <td>1</td>\n",
       "      <td>1</td>\n",
       "      <td>2</td>\n",
       "      <td>1.01.02.0</td>\n",
       "      <td>4</td>\n",
       "      <td>Promissing</td>\n",
       "    </tr>\n",
       "  </tbody>\n",
       "</table>\n",
       "</div>"
      ],
      "text/plain": [
       "            Recency  Frequency  MonetaryValue  R  F  M RFM_concat  RFM_score  \\\n",
       "CustomerID                                                                     \n",
       "12346.0         326          2           0.00  1  1  1  1.01.01.0          3   \n",
       "12347.0           2        182        4310.00  4  4  4  4.04.04.0         12   \n",
       "12348.0          75         31        1797.24  2  2  4  2.02.04.0          8   \n",
       "12349.0          19         73        1757.55  3  3  4  3.03.04.0         10   \n",
       "12350.0         310         17         334.40  1  1  2  1.01.02.0          4   \n",
       "\n",
       "              RFM_segment  \n",
       "CustomerID                 \n",
       "12346.0     Need Atention  \n",
       "12347.0          premiere  \n",
       "12348.0         Champions  \n",
       "12349.0          premiere  \n",
       "12350.0        Promissing  "
      ]
     },
     "execution_count": 38,
     "metadata": {},
     "output_type": "execute_result"
    }
   ],
   "source": [
    "RFM.head()"
   ]
  },
  {
   "cell_type": "code",
   "execution_count": 39,
   "id": "1b36ba5d",
   "metadata": {},
   "outputs": [
    {
     "data": {
      "text/plain": [
       "<AxesSubplot:>"
      ]
     },
     "execution_count": 39,
     "metadata": {},
     "output_type": "execute_result"
    },
    {
     "data": {
      "image/png": "[encoded data removed]",
      "text/plain": [
       "<Figure size 720x360 with 1 Axes>"
      ]
     },
     "metadata": {
      "needs_background": "light"
     },
     "output_type": "display_data"
    }
   ],
   "source": [
    "RFM[\"RFM_segment\"].value_counts().plot(kind = \"barh\", figsize=(10, 5))"
   ]
  },
  {
   "cell_type": "markdown",
   "id": "90c06c9c",
   "metadata": {},
   "source": [
    "## Project Task: Week 3\n",
    "## Data Modeling :\n",
    "\n",
    "### 1. Create clusters using k-means clustering algorithm.\n",
    "\n",
    "### a. Prepare the data for the algorithm. If the data is asymmetrically distributed, manage the skewness with appropriate transformation. Standardize the data."
   ]
  },
  {
   "cell_type": "code",
   "execution_count": 40,
   "id": "93dc2d1c",
   "metadata": {},
   "outputs": [
    {
     "data": {
      "text/plain": [
       "<AxesSubplot:xlabel='MonetaryValue'>"
      ]
     },
     "execution_count": 40,
     "metadata": {},
     "output_type": "execute_result"
    },
    {
     "data": {
      "image/png": "[encoded data removed]",
      "text/plain": [
       "<Figure size 1368x288 with 3 Axes>"
      ]
     },
     "metadata": {
      "needs_background": "light"
     },
     "output_type": "display_data"
    }
   ],
   "source": [
    "# First check the outlier\n",
    "plt.figure(figsize=(19,4))\n",
    "plt.subplot(1,3,1)\n",
    "sns.boxplot(RFM['Recency'])\n",
    "\n",
    "plt.subplot(1,3,2)\n",
    "sns.boxplot(RFM['Frequency'])\n",
    "\n",
    "plt.subplot(1,3,3)\n",
    "sns.boxplot(RFM['MonetaryValue'])"
   ]
  },
  {
   "cell_type": "markdown",
   "id": "820d6091",
   "metadata": {},
   "source": [
    "There is otlier in our data set so we will drop the outlier"
   ]
  },
  {
   "cell_type": "code",
   "execution_count": 41,
   "id": "8d6bb2cc",
   "metadata": {},
   "outputs": [],
   "source": [
    "RFM_clust = RFM[(RFM['Frequency']<500) & (RFM['MonetaryValue']<50000)]"
   ]
  },
  {
   "cell_type": "code",
   "execution_count": 42,
   "id": "04c39012",
   "metadata": {},
   "outputs": [
    {
     "data": {
      "text/plain": [
       "(4283, 9)"
      ]
     },
     "execution_count": 42,
     "metadata": {},
     "output_type": "execute_result"
    }
   ],
   "source": [
    "RFM_clust.shape"
   ]
  },
  {
   "cell_type": "code",
   "execution_count": 43,
   "id": "1a603d27",
   "metadata": {},
   "outputs": [
    {
     "data": {
      "text/plain": [
       "<AxesSubplot:xlabel='Recency', ylabel='Count'>"
      ]
     },
     "execution_count": 43,
     "metadata": {},
     "output_type": "execute_result"
    },
    {
     "data": {
      "image/png": "[encoded data removed]",
      "text/plain": [
       "<Figure size 432x288 with 1 Axes>"
      ]
     },
     "metadata": {
      "needs_background": "light"
     },
     "output_type": "display_data"
    }
   ],
   "source": [
    "# let's first check the data is asymmetrically distributed or not.\n",
    "sns.histplot(RFM_clust['Recency'])"
   ]
  },
  {
   "cell_type": "code",
   "execution_count": 44,
   "id": "3a2dae31",
   "metadata": {},
   "outputs": [
    {
     "data": {
      "text/plain": [
       "<AxesSubplot:xlabel='Frequency', ylabel='Count'>"
      ]
     },
     "execution_count": 44,
     "metadata": {},
     "output_type": "execute_result"
    },
    {
     "data": {
      "image/png": "[encoded data removed]",
      "text/plain": [
       "<Figure size 432x288 with 1 Axes>"
      ]
     },
     "metadata": {
      "needs_background": "light"
     },
     "output_type": "display_data"
    }
   ],
   "source": [
    "sns.histplot(RFM_clust['Frequency'])"
   ]
  },
  {
   "cell_type": "code",
   "execution_count": 45,
   "id": "6e574ae9",
   "metadata": {},
   "outputs": [
    {
     "data": {
      "image/png": "[encoded data removed]",
      "text/plain": [
       "<Figure size 432x288 with 1 Axes>"
      ]
     },
     "metadata": {
      "needs_background": "light"
     },
     "output_type": "display_data"
    }
   ],
   "source": [
    "sns.histplot(RFM_clust['MonetaryValue'])\n",
    "plt.show()"
   ]
  },
  {
   "cell_type": "markdown",
   "id": "638aa351",
   "metadata": {},
   "source": [
    "Form above graph it is clear data is highly skewed so we will apply log transformation to make data symmetric the data."
   ]
  },
  {
   "cell_type": "code",
   "execution_count": 46,
   "id": "aad28ddc",
   "metadata": {},
   "outputs": [],
   "source": [
    "transform_rfm = pd.DataFrame()\n",
    "transform_rfm[\"Recency\"] = np.log(RFM_clust['Recency'])\n",
    "transform_rfm[\"Frequency\"] = np.log(RFM_clust['Frequency'])\n",
    "transform_rfm[\"MonetaryValue\"] = np.log(RFM_clust['MonetaryValue']-RFM_clust['MonetaryValue'].min()+1)"
   ]
  },
  {
   "cell_type": "code",
   "execution_count": 47,
   "id": "05ce0697",
   "metadata": {},
   "outputs": [],
   "source": [
    "# let's make the standardize.\n",
    "from sklearn.preprocessing import StandardScaler"
   ]
  },
  {
   "cell_type": "code",
   "execution_count": 48,
   "id": "5ac06d94",
   "metadata": {},
   "outputs": [],
   "source": [
    "sc = StandardScaler()"
   ]
  },
  {
   "cell_type": "code",
   "execution_count": 49,
   "id": "7a0bede9",
   "metadata": {},
   "outputs": [],
   "source": [
    "scaled_rfm = sc.fit_transform(transform_rfm)"
   ]
  },
  {
   "cell_type": "code",
   "execution_count": 50,
   "id": "f91be37f",
   "metadata": {},
   "outputs": [
    {
     "data": {
      "text/html": [
       "<div>\n",
       "<style scoped>\n",
       "    .dataframe tbody tr th:only-of-type {\n",
       "        vertical-align: middle;\n",
       "    }\n",
       "\n",
       "    .dataframe tbody tr th {\n",
       "        vertical-align: top;\n",
       "    }\n",
       "\n",
       "    .dataframe thead th {\n",
       "        text-align: right;\n",
       "    }\n",
       "</style>\n",
       "<table border=\"1\" class=\"dataframe\">\n",
       "  <thead>\n",
       "    <tr style=\"text-align: right;\">\n",
       "      <th></th>\n",
       "      <th>Recency</th>\n",
       "      <th>Frequency</th>\n",
       "      <th>MonetaryValue</th>\n",
       "    </tr>\n",
       "  </thead>\n",
       "  <tbody>\n",
       "    <tr>\n",
       "      <th>0</th>\n",
       "      <td>1.397441</td>\n",
       "      <td>-2.290339</td>\n",
       "      <td>-0.767370</td>\n",
       "    </tr>\n",
       "    <tr>\n",
       "      <th>1</th>\n",
       "      <td>-2.141630</td>\n",
       "      <td>1.246250</td>\n",
       "      <td>1.571477</td>\n",
       "    </tr>\n",
       "    <tr>\n",
       "      <th>2</th>\n",
       "      <td>0.376515</td>\n",
       "      <td>-0.141475</td>\n",
       "      <td>0.409398</td>\n",
       "    </tr>\n",
       "    <tr>\n",
       "      <th>3</th>\n",
       "      <td>-0.577462</td>\n",
       "      <td>0.530013</td>\n",
       "      <td>0.387400</td>\n",
       "    </tr>\n",
       "    <tr>\n",
       "      <th>4</th>\n",
       "      <td>1.362476</td>\n",
       "      <td>-0.612492</td>\n",
       "      <td>-0.514928</td>\n",
       "    </tr>\n",
       "  </tbody>\n",
       "</table>\n",
       "</div>"
      ],
      "text/plain": [
       "    Recency  Frequency  MonetaryValue\n",
       "0  1.397441  -2.290339      -0.767370\n",
       "1 -2.141630   1.246250       1.571477\n",
       "2  0.376515  -0.141475       0.409398\n",
       "3 -0.577462   0.530013       0.387400\n",
       "4  1.362476  -0.612492      -0.514928"
      ]
     },
     "execution_count": 50,
     "metadata": {},
     "output_type": "execute_result"
    }
   ],
   "source": [
    "scaled_rfm = pd.DataFrame(scaled_rfm, columns = [\"Recency\", \"Frequency\", \"MonetaryValue\"])\n",
    "scaled_rfm.head()"
   ]
  },
  {
   "cell_type": "markdown",
   "id": "afa9bc50",
   "metadata": {},
   "source": [
    "### b. Decide the optimum number of clusters to be formed."
   ]
  },
  {
   "cell_type": "code",
   "execution_count": 51,
   "id": "4eb4e8b9",
   "metadata": {},
   "outputs": [],
   "source": [
    "from sklearn.cluster import KMeans"
   ]
  },
  {
   "cell_type": "code",
   "execution_count": 52,
   "id": "33837bf1",
   "metadata": {},
   "outputs": [],
   "source": [
    "km = KMeans(n_clusters = 4, init = \"k-means++\", max_iter = 500, random_state=10)"
   ]
  },
  {
   "cell_type": "code",
   "execution_count": 53,
   "id": "2211a4a1",
   "metadata": {},
   "outputs": [],
   "source": [
    "clusters = km.fit_predict(scaled_rfm)"
   ]
  },
  {
   "cell_type": "code",
   "execution_count": 54,
   "id": "31ee96a7",
   "metadata": {},
   "outputs": [
    {
     "data": {
      "text/plain": [
       "0.2886421085562689"
      ]
     },
     "execution_count": 54,
     "metadata": {},
     "output_type": "execute_result"
    }
   ],
   "source": [
    "from sklearn.metrics import silhouette_score\n",
    "\n",
    "silhouette_score(scaled_rfm, clusters)"
   ]
  },
  {
   "cell_type": "code",
   "execution_count": 55,
   "id": "283eb571",
   "metadata": {},
   "outputs": [],
   "source": [
    "# Nom by using the elbow method we will get the optimul no of cluster.\n",
    "inertia_list = []\n",
    "for i in range(2,11):\n",
    "    km = KMeans(n_clusters = i, random_state = 10)\n",
    "    km.fit(scaled_rfm)\n",
    "    inertia_list.append(km.inertia_)"
   ]
  },
  {
   "cell_type": "code",
   "execution_count": 56,
   "id": "0ac91c3b",
   "metadata": {
    "scrolled": true
   },
   "outputs": [
    {
     "data": {
      "image/png": "[encoded data removed]",
      "text/plain": [
       "<Figure size 432x288 with 1 Axes>"
      ]
     },
     "metadata": {
      "needs_background": "light"
     },
     "output_type": "display_data"
    }
   ],
   "source": [
    "# Now plot the elbow curve.\n",
    "plt.plot(range(2,11), inertia_list)\n",
    "plt.xlabel(\"No of cluster\")\n",
    "plt.ylabel(\"inertia\")\n",
    "plt.show()"
   ]
  },
  {
   "cell_type": "code",
   "execution_count": 57,
   "id": "ca13ab2c",
   "metadata": {},
   "outputs": [
    {
     "data": {
      "text/html": [
       "<div>\n",
       "<style scoped>\n",
       "    .dataframe tbody tr th:only-of-type {\n",
       "        vertical-align: middle;\n",
       "    }\n",
       "\n",
       "    .dataframe tbody tr th {\n",
       "        vertical-align: top;\n",
       "    }\n",
       "\n",
       "    .dataframe thead th {\n",
       "        text-align: right;\n",
       "    }\n",
       "</style>\n",
       "<table border=\"1\" class=\"dataframe\">\n",
       "  <thead>\n",
       "    <tr style=\"text-align: right;\">\n",
       "      <th></th>\n",
       "      <th>cluster</th>\n",
       "      <th>inertia</th>\n",
       "    </tr>\n",
       "  </thead>\n",
       "  <tbody>\n",
       "    <tr>\n",
       "      <th>0</th>\n",
       "      <td>2</td>\n",
       "      <td>7627.132134</td>\n",
       "    </tr>\n",
       "    <tr>\n",
       "      <th>1</th>\n",
       "      <td>3</td>\n",
       "      <td>6013.142026</td>\n",
       "    </tr>\n",
       "    <tr>\n",
       "      <th>2</th>\n",
       "      <td>4</td>\n",
       "      <td>5034.654335</td>\n",
       "    </tr>\n",
       "    <tr>\n",
       "      <th>3</th>\n",
       "      <td>5</td>\n",
       "      <td>4231.276699</td>\n",
       "    </tr>\n",
       "    <tr>\n",
       "      <th>4</th>\n",
       "      <td>6</td>\n",
       "      <td>3576.477580</td>\n",
       "    </tr>\n",
       "    <tr>\n",
       "      <th>5</th>\n",
       "      <td>7</td>\n",
       "      <td>3038.846349</td>\n",
       "    </tr>\n",
       "    <tr>\n",
       "      <th>6</th>\n",
       "      <td>8</td>\n",
       "      <td>2710.213140</td>\n",
       "    </tr>\n",
       "    <tr>\n",
       "      <th>7</th>\n",
       "      <td>9</td>\n",
       "      <td>2443.021897</td>\n",
       "    </tr>\n",
       "    <tr>\n",
       "      <th>8</th>\n",
       "      <td>10</td>\n",
       "      <td>2207.119238</td>\n",
       "    </tr>\n",
       "  </tbody>\n",
       "</table>\n",
       "</div>"
      ],
      "text/plain": [
       "   cluster      inertia\n",
       "0        2  7627.132134\n",
       "1        3  6013.142026\n",
       "2        4  5034.654335\n",
       "3        5  4231.276699\n",
       "4        6  3576.477580\n",
       "5        7  3038.846349\n",
       "6        8  2710.213140\n",
       "7        9  2443.021897\n",
       "8       10  2207.119238"
      ]
     },
     "execution_count": 57,
     "metadata": {},
     "output_type": "execute_result"
    }
   ],
   "source": [
    "n_cluster = list(range(2,11))\n",
    "inertia = pd.DataFrame(zip(n_cluster, inertia_list), columns = [\"cluster\", \"inertia\"])\n",
    "inertia"
   ]
  },
  {
   "cell_type": "markdown",
   "id": "e2c5c92c",
   "metadata": {},
   "source": [
    "By analysis of grapg its getting difficult which would be optimul no of cluster because elbow bend is not clear."
   ]
  },
  {
   "cell_type": "code",
   "execution_count": 58,
   "id": "05196f25",
   "metadata": {},
   "outputs": [],
   "source": [
    "silhouete_score = []\n",
    "\n",
    "for i in range(2,11):\n",
    "    km = KMeans(n_clusters = i, max_iter = 500, random_state = 10)\n",
    "    cluster = km.fit_predict(scaled_rfm)\n",
    "    score = silhouette_score(scaled_rfm, cluster)\n",
    "    silhouete_score.append(score)"
   ]
  },
  {
   "cell_type": "code",
   "execution_count": 59,
   "id": "7867c1b0",
   "metadata": {},
   "outputs": [
    {
     "data": {
      "text/plain": [
       "[<matplotlib.lines.Line2D at 0x26ff78a8190>]"
      ]
     },
     "execution_count": 59,
     "metadata": {},
     "output_type": "execute_result"
    },
    {
     "data": {
      "image/png": "[encoded data removed]",
      "text/plain": [
       "<Figure size 432x288 with 1 Axes>"
      ]
     },
     "metadata": {
      "needs_background": "light"
     },
     "output_type": "display_data"
    }
   ],
   "source": [
    "# Let's plot the silhouete_score graph.\n",
    "plt.plot(range(2,11), silhouete_score)"
   ]
  },
  {
   "cell_type": "code",
   "execution_count": 60,
   "id": "3eb83409",
   "metadata": {},
   "outputs": [],
   "source": [
    "km = KMeans(n_clusters = 2, init= \"k-means++\", max_iter=500, random_state= 500)"
   ]
  },
  {
   "cell_type": "code",
   "execution_count": 61,
   "id": "63b1bfc2",
   "metadata": {},
   "outputs": [],
   "source": [
    "cluster = km.fit_predict(scaled_rfm)"
   ]
  },
  {
   "cell_type": "code",
   "execution_count": 62,
   "id": "88323b57",
   "metadata": {},
   "outputs": [
    {
     "data": {
      "text/plain": [
       "0.3934322038543268"
      ]
     },
     "execution_count": 62,
     "metadata": {},
     "output_type": "execute_result"
    }
   ],
   "source": [
    "silhouette_score(scaled_rfm, cluster)"
   ]
  },
  {
   "cell_type": "code",
   "execution_count": 63,
   "id": "3d056ee0",
   "metadata": {},
   "outputs": [],
   "source": [
    "RFM_clust['labeled'] = km.labels_"
   ]
  },
  {
   "cell_type": "code",
   "execution_count": 64,
   "id": "1bd0ce06",
   "metadata": {},
   "outputs": [
    {
     "data": {
      "text/html": [
       "<div>\n",
       "<style scoped>\n",
       "    .dataframe tbody tr th:only-of-type {\n",
       "        vertical-align: middle;\n",
       "    }\n",
       "\n",
       "    .dataframe tbody tr th {\n",
       "        vertical-align: top;\n",
       "    }\n",
       "\n",
       "    .dataframe thead th {\n",
       "        text-align: right;\n",
       "    }\n",
       "</style>\n",
       "<table border=\"1\" class=\"dataframe\">\n",
       "  <thead>\n",
       "    <tr style=\"text-align: right;\">\n",
       "      <th></th>\n",
       "      <th>Recency</th>\n",
       "      <th>Frequency</th>\n",
       "      <th>MonetaryValue</th>\n",
       "      <th>R</th>\n",
       "      <th>F</th>\n",
       "      <th>M</th>\n",
       "      <th>RFM_concat</th>\n",
       "      <th>RFM_score</th>\n",
       "      <th>RFM_segment</th>\n",
       "      <th>labeled</th>\n",
       "    </tr>\n",
       "    <tr>\n",
       "      <th>CustomerID</th>\n",
       "      <th></th>\n",
       "      <th></th>\n",
       "      <th></th>\n",
       "      <th></th>\n",
       "      <th></th>\n",
       "      <th></th>\n",
       "      <th></th>\n",
       "      <th></th>\n",
       "      <th></th>\n",
       "      <th></th>\n",
       "    </tr>\n",
       "  </thead>\n",
       "  <tbody>\n",
       "    <tr>\n",
       "      <th>12346.0</th>\n",
       "      <td>326</td>\n",
       "      <td>2</td>\n",
       "      <td>0.00</td>\n",
       "      <td>1</td>\n",
       "      <td>1</td>\n",
       "      <td>1</td>\n",
       "      <td>1.01.01.0</td>\n",
       "      <td>3</td>\n",
       "      <td>Need Atention</td>\n",
       "      <td>0</td>\n",
       "    </tr>\n",
       "    <tr>\n",
       "      <th>12347.0</th>\n",
       "      <td>2</td>\n",
       "      <td>182</td>\n",
       "      <td>4310.00</td>\n",
       "      <td>4</td>\n",
       "      <td>4</td>\n",
       "      <td>4</td>\n",
       "      <td>4.04.04.0</td>\n",
       "      <td>12</td>\n",
       "      <td>premiere</td>\n",
       "      <td>1</td>\n",
       "    </tr>\n",
       "    <tr>\n",
       "      <th>12348.0</th>\n",
       "      <td>75</td>\n",
       "      <td>31</td>\n",
       "      <td>1797.24</td>\n",
       "      <td>2</td>\n",
       "      <td>2</td>\n",
       "      <td>4</td>\n",
       "      <td>2.02.04.0</td>\n",
       "      <td>8</td>\n",
       "      <td>Champions</td>\n",
       "      <td>0</td>\n",
       "    </tr>\n",
       "    <tr>\n",
       "      <th>12349.0</th>\n",
       "      <td>19</td>\n",
       "      <td>73</td>\n",
       "      <td>1757.55</td>\n",
       "      <td>3</td>\n",
       "      <td>3</td>\n",
       "      <td>4</td>\n",
       "      <td>3.03.04.0</td>\n",
       "      <td>10</td>\n",
       "      <td>premiere</td>\n",
       "      <td>1</td>\n",
       "    </tr>\n",
       "    <tr>\n",
       "      <th>12350.0</th>\n",
       "      <td>310</td>\n",
       "      <td>17</td>\n",
       "      <td>334.40</td>\n",
       "      <td>1</td>\n",
       "      <td>1</td>\n",
       "      <td>2</td>\n",
       "      <td>1.01.02.0</td>\n",
       "      <td>4</td>\n",
       "      <td>Promissing</td>\n",
       "      <td>0</td>\n",
       "    </tr>\n",
       "    <tr>\n",
       "      <th>...</th>\n",
       "      <td>...</td>\n",
       "      <td>...</td>\n",
       "      <td>...</td>\n",
       "      <td>...</td>\n",
       "      <td>...</td>\n",
       "      <td>...</td>\n",
       "      <td>...</td>\n",
       "      <td>...</td>\n",
       "      <td>...</td>\n",
       "      <td>...</td>\n",
       "    </tr>\n",
       "    <tr>\n",
       "      <th>18278.0</th>\n",
       "      <td>74</td>\n",
       "      <td>9</td>\n",
       "      <td>173.90</td>\n",
       "      <td>2</td>\n",
       "      <td>1</td>\n",
       "      <td>1</td>\n",
       "      <td>2.01.01.0</td>\n",
       "      <td>4</td>\n",
       "      <td>Promissing</td>\n",
       "      <td>0</td>\n",
       "    </tr>\n",
       "    <tr>\n",
       "      <th>18280.0</th>\n",
       "      <td>278</td>\n",
       "      <td>10</td>\n",
       "      <td>180.60</td>\n",
       "      <td>1</td>\n",
       "      <td>1</td>\n",
       "      <td>1</td>\n",
       "      <td>1.01.01.0</td>\n",
       "      <td>3</td>\n",
       "      <td>Need Atention</td>\n",
       "      <td>0</td>\n",
       "    </tr>\n",
       "    <tr>\n",
       "      <th>18281.0</th>\n",
       "      <td>181</td>\n",
       "      <td>7</td>\n",
       "      <td>80.82</td>\n",
       "      <td>1</td>\n",
       "      <td>1</td>\n",
       "      <td>1</td>\n",
       "      <td>1.01.01.0</td>\n",
       "      <td>3</td>\n",
       "      <td>Need Atention</td>\n",
       "      <td>0</td>\n",
       "    </tr>\n",
       "    <tr>\n",
       "      <th>18282.0</th>\n",
       "      <td>8</td>\n",
       "      <td>13</td>\n",
       "      <td>176.60</td>\n",
       "      <td>4</td>\n",
       "      <td>1</td>\n",
       "      <td>1</td>\n",
       "      <td>4.01.01.0</td>\n",
       "      <td>6</td>\n",
       "      <td>Loyal</td>\n",
       "      <td>0</td>\n",
       "    </tr>\n",
       "    <tr>\n",
       "      <th>18287.0</th>\n",
       "      <td>43</td>\n",
       "      <td>70</td>\n",
       "      <td>1837.28</td>\n",
       "      <td>3</td>\n",
       "      <td>3</td>\n",
       "      <td>4</td>\n",
       "      <td>3.03.04.0</td>\n",
       "      <td>10</td>\n",
       "      <td>premiere</td>\n",
       "      <td>1</td>\n",
       "    </tr>\n",
       "  </tbody>\n",
       "</table>\n",
       "<p>4283 rows × 10 columns</p>\n",
       "</div>"
      ],
      "text/plain": [
       "            Recency  Frequency  MonetaryValue  R  F  M RFM_concat  RFM_score  \\\n",
       "CustomerID                                                                     \n",
       "12346.0         326          2           0.00  1  1  1  1.01.01.0          3   \n",
       "12347.0           2        182        4310.00  4  4  4  4.04.04.0         12   \n",
       "12348.0          75         31        1797.24  2  2  4  2.02.04.0          8   \n",
       "12349.0          19         73        1757.55  3  3  4  3.03.04.0         10   \n",
       "12350.0         310         17         334.40  1  1  2  1.01.02.0          4   \n",
       "...             ...        ...            ... .. .. ..        ...        ...   \n",
       "18278.0          74          9         173.90  2  1  1  2.01.01.0          4   \n",
       "18280.0         278         10         180.60  1  1  1  1.01.01.0          3   \n",
       "18281.0         181          7          80.82  1  1  1  1.01.01.0          3   \n",
       "18282.0           8         13         176.60  4  1  1  4.01.01.0          6   \n",
       "18287.0          43         70        1837.28  3  3  4  3.03.04.0         10   \n",
       "\n",
       "              RFM_segment  labeled  \n",
       "CustomerID                          \n",
       "12346.0     Need Atention        0  \n",
       "12347.0          premiere        1  \n",
       "12348.0         Champions        0  \n",
       "12349.0          premiere        1  \n",
       "12350.0        Promissing        0  \n",
       "...                   ...      ...  \n",
       "18278.0        Promissing        0  \n",
       "18280.0     Need Atention        0  \n",
       "18281.0     Need Atention        0  \n",
       "18282.0             Loyal        0  \n",
       "18287.0          premiere        1  \n",
       "\n",
       "[4283 rows x 10 columns]"
      ]
     },
     "execution_count": 64,
     "metadata": {},
     "output_type": "execute_result"
    }
   ],
   "source": [
    "RFM_clust"
   ]
  },
  {
   "cell_type": "markdown",
   "id": "da158c95",
   "metadata": {},
   "source": [
    "### c. Analyze these clusters and comment on the results."
   ]
  },
  {
   "cell_type": "code",
   "execution_count": 65,
   "id": "32811f5a",
   "metadata": {
    "scrolled": true
   },
   "outputs": [
    {
     "data": {
      "image/png": "[encoded data removed]",
      "text/plain": [
       "<Figure size 432x288 with 1 Axes>"
      ]
     },
     "metadata": {
      "needs_background": "light"
     },
     "output_type": "display_data"
    }
   ],
   "source": [
    "sns.boxplot(x='labeled', y='Recency', data=RFM_clust);"
   ]
  },
  {
   "cell_type": "code",
   "execution_count": 66,
   "id": "d7530ad8",
   "metadata": {},
   "outputs": [
    {
     "data": {
      "image/png": "[encoded data removed]",
      "text/plain": [
       "<Figure size 432x288 with 1 Axes>"
      ]
     },
     "metadata": {
      "needs_background": "light"
     },
     "output_type": "display_data"
    }
   ],
   "source": [
    "sns.boxplot(x='labeled', y='Frequency', data=RFM_clust);"
   ]
  },
  {
   "cell_type": "code",
   "execution_count": 67,
   "id": "7629cc67",
   "metadata": {},
   "outputs": [
    {
     "data": {
      "image/png": "[encoded data removed]",
      "text/plain": [
       "<Figure size 432x288 with 1 Axes>"
      ]
     },
     "metadata": {
      "needs_background": "light"
     },
     "output_type": "display_data"
    }
   ],
   "source": [
    "sns.boxplot(x='labeled', y='MonetaryValue', data=RFM_clust);"
   ]
  },
  {
   "cell_type": "markdown",
   "id": "f9bcd7fc",
   "metadata": {},
   "source": [
    "#### Result analysis\n",
    "After analysing the customer it is clear that the customer in cluster 1 is loyal and frequently buy the product and also spend good amount whereas the customer in cluster 1 is week customer on which we need to give attention."
   ]
  },
  {
   "cell_type": "markdown",
   "id": "a7d4d58b",
   "metadata": {},
   "source": [
    "## Project Task: Week 4\n",
    "## Data Reporting:\n",
    "\n",
    "### 1. Create a dashboard in tableau by choosing appropriate chart types and metrics useful for the business. The dashboard must entail the following:\n",
    "\n",
    "a. Country-wise analysis to demonstrate average spend. Use a bar chart to show the monthly figures\n",
    "\n",
    "b. Bar graph of top 15 products which are mostly ordered by the users to show the number of products sold\n",
    "\n",
    "c. Bar graph to show the count of orders vs. hours throughout the day\n",
    "\n",
    "d. Plot the distribution of RFM values using histogram and frequency charts\n",
    "\n",
    "e. Plot error (cost) vs. number of clusters selected\n",
    "\n",
    "f. Visualize to compare the RFM values of the clusters using heatmap"
   ]
  },
  {
   "cell_type": "code",
   "execution_count": 68,
   "id": "dbbb1f55",
   "metadata": {},
   "outputs": [],
   "source": [
    "# Converting the data frame into the excel to make dashboard in the tableau \n",
    "retail_df.to_excel('master_data.xlsx', sheet_name='master_data', index=False)\n",
    "RFM_clust.to_excel('rfm_data.xlsx', sheet_name='rfm_data', index=False)\n",
    "inertia.to_excel('inertia_data.xlsx', sheet_name='inertia', index=False)"
   ]
  },
  {
   "cell_type": "markdown",
   "id": "b80df57d",
   "metadata": {},
   "source": [
    "# Please refer Tableau Dashboard for visualization and graphs"
   ]
  },
  {
   "cell_type": "code",
   "execution_count": null,
   "id": "5fe25537",
   "metadata": {},
   "outputs": [],
   "source": []
  },
  {
   "cell_type": "code",
   "execution_count": null,
   "id": "a6424916",
   "metadata": {},
   "outputs": [],
   "source": []
  }
 ],
 "metadata": {
  "kernelspec": {
   "display_name": "Python 3 (ipykernel)",
   "language": "python",
   "name": "python3"
  },
  "language_info": {
   "codemirror_mode": {
    "name": "ipython",
    "version": 3
   },
   "file_extension": ".py",
   "mimetype": "text/x-python",
   "name": "python",
   "nbconvert_exporter": "python",
   "pygments_lexer": "ipython3",
   "version": "3.9.12"
  }
 },
 "nbformat": 4,
 "nbformat_minor": 5
}
